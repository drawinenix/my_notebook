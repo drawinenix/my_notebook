{
    "cells": [
        {
            "metadata": {
                "collapsed": true
            },
            "cell_type": "markdown",
            "source": "<h1>Final Assignment</h1>"
        },
        {
            "metadata": {},
            "cell_type": "markdown",
            "source": "<b>Nguyen Phi Long</b>"
        },
        {
            "metadata": {},
            "cell_type": "markdown",
            "source": "<b><i>Data science languages:</i></b>\n<i>Python, R, SQL...</i>"
        },
        {
            "metadata": {},
            "cell_type": "markdown",
            "source": "<b><i>Data science libraries:</i></b>\n<i>numpy, pandas, matplotlib, seaborn, scipy, sci-kit learn, ggplot2...</i>"
        },
        {
            "metadata": {},
            "cell_type": "markdown",
            "source": "<b><i>A table of Data Science tools:</i></b>\n<table>\n    <tr>\n        <td><b>Open Source</b></td>\n        <td>My SQL</td>\n        <td>PostresQL</td>\n        <td>mongo DB</td>\n        <td>hadoop HFS</td>\n        <td>CouchDB</td>\n        <td>ceph</td>\n        <td>Apache Airflow</td>\n        <td>Kubeflow</td>\n        <td>Spark SQL</td>\n        <td>TensorFlow Service</td>\n        <td>ModelDB</td>\n        <td>git</td>\n    </tr>\n    <tr>\n        <td><b>Commercial</b></td>\n        <td>Oracle</td>\n        <td>Microsoft SQL Server</td>\n        <td>IBM DB2</td>\n        <td>talend</td>\n        <td>Informatica</td>\n        <td>IBM InfoSphere DataStage</td>\n        <td>tableau</td>\n        <td>Power BI</td>\n        <td>SPSS</td>\n        <td>sas</td>\n        <td>Watson Studio</td>\n        <td>H2O.ai</td>\n    </tr> \n</table>"
        },
        {
            "metadata": {},
            "cell_type": "markdown",
            "source": "<b>Arithmetic expression examples:</b>"
        },
        {
            "metadata": {},
            "cell_type": "code",
            "source": "(80 + 20) * 100",
            "execution_count": 3,
            "outputs": [
                {
                    "output_type": "execute_result",
                    "execution_count": 3,
                    "data": {
                        "text/plain": "10000"
                    },
                    "metadata": {}
                }
            ]
        },
        {
            "metadata": {},
            "cell_type": "code",
            "source": "minutes = 200\nhours = minutes / 60\nprint('Minutes:', minutes, 'to hours:', hours)",
            "execution_count": 4,
            "outputs": [
                {
                    "output_type": "stream",
                    "text": "Minutes: 200 to hours: 3.3333333333333335\n",
                    "name": "stdout"
                }
            ]
        },
        {
            "metadata": {},
            "cell_type": "markdown",
            "source": "<b><i>The Author\u2019s name:</i> Nguyen Phi Long<b/>"
        }
    ],
    "metadata": {
        "kernelspec": {
            "name": "python3",
            "display_name": "Python 3.10",
            "language": "python"
        },
        "language_info": {
            "name": "python",
            "version": "3.10.9",
            "mimetype": "text/x-python",
            "codemirror_mode": {
                "name": "ipython",
                "version": 3
            },
            "pygments_lexer": "ipython3",
            "nbconvert_exporter": "python",
            "file_extension": ".py"
        }
    },
    "nbformat": 4,
    "nbformat_minor": 1
}